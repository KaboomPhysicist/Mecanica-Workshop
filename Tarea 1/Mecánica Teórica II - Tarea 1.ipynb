{
 "cells": [
  {
   "cell_type": "markdown",
   "metadata": {},
   "source": [
    "# Tarea 1. Oscilador paramétrico no lineal.\n",
    "\n",
    "**Por ***REMOVED*** y ***REMOVED*****"
   ]
  },
  {
   "cell_type": "markdown",
   "metadata": {},
   "source": [
    "Verificar numéricamente la inestabilidad que se menciona en la figura 32, respecto a la curva de resonancia no lineal.\n",
    "\n",
    "La ecuación diferencial que rige el fenómeno es\n",
    "\n",
    "\\begin{equation}\n",
    "    \\ddot x + 2\\lambda\\dot x+\\omega_0^2x=\\frac{f}{m} cos (\\gamma t) - \\alpha x^2-\\beta x^3\n",
    "\\end{equation}\n",
    "\n",
    "y se analiza el caso particular en el que $\\gamma=\\omega_0+\\epsilon$"
   ]
  },
  {
   "cell_type": "code",
   "execution_count": null,
   "metadata": {},
   "outputs": [],
   "source": []
  }
 ],
 "metadata": {
  "kernelspec": {
   "display_name": "Python 3",
   "language": "python",
   "name": "python3"
  },
  "language_info": {
   "codemirror_mode": {
    "name": "ipython",
    "version": 3
   },
   "file_extension": ".py",
   "mimetype": "text/x-python",
   "name": "python",
   "nbconvert_exporter": "python",
   "pygments_lexer": "ipython3",
   "version": "3.8.5"
  }
 },
 "nbformat": 4,
 "nbformat_minor": 4
}
