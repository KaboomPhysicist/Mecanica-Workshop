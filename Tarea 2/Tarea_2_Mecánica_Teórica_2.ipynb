{
 "cells": [
  {
   "cell_type": "markdown",
   "metadata": {},
   "source": [
    "# Trompo de Kovalevskaya"
   ]
  },
  {
   "cell_type": "markdown",
   "metadata": {},
   "source": [
    "El trompo de Kovalevskaya fue descubierto por Sofya Kovalevskaya y presentado en su tesis en 1888. El trompo cumple la condición de que $I_1=I_2=I$ y $I_3=2I$. Las ecuaciones de movimiento del trompo vienen dadas por las ecuaciones de Euler:\n",
    "\n",
    "\\begin{equation}\n",
    "I \\dot{\\Omega_1} = -I \\Omega_2 \\Omega_3 - Mg (z_0\\gamma') \\\\\n",
    "I \\dot{\\Omega_2} = I \\Omega_3 \\Omega_1 + Mg (z_0 \\gamma) \\\\\n",
    "2I \\dot{\\Omega_3} = 0\n",
    "\\end{equation}\n",
    "\n",
    "\\begin{equation}\n",
    "\\frac{d\\gamma}{dt}=\\Omega_3 \\gamma' - \\Omega_2 \\gamma'' \\\\\n",
    "\\frac{d\\gamma'}{dt}=\\Omega_1 \\gamma'' - \\Omega_3 \\gamma \\\\\n",
    "\\frac{d\\gamma''}{dt}=\\Omega_2 \\gamma - \\Omega_1 \\gamma'\n",
    "\\end{equation}"
   ]
  },
  {
   "cell_type": "code",
   "execution_count": null,
   "metadata": {},
   "outputs": [],
   "source": []
  }
 ],
 "metadata": {
  "kernelspec": {
   "display_name": "Python 3 (ipykernel)",
   "language": "python",
   "name": "python3"
  },
  "language_info": {
   "codemirror_mode": {
    "name": "ipython",
    "version": 3
   },
   "file_extension": ".py",
   "mimetype": "text/x-python",
   "name": "python",
   "nbconvert_exporter": "python",
   "pygments_lexer": "ipython3",
   "version": "3.8.10"
  }
 },
 "nbformat": 4,
 "nbformat_minor": 4
}
