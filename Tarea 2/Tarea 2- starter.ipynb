{
 "cells": [
  {
   "cell_type": "code",
   "execution_count": 5,
   "metadata": {},
   "outputs": [],
   "source": [
    "import numpy as np\n",
    "import matplotlib.pyplot as plt\n",
    "from scipy.integrate import odeint"
   ]
  },
  {
   "cell_type": "code",
   "execution_count": 8,
   "metadata": {},
   "outputs": [
    {
     "name": "stdout",
     "output_type": "stream",
     "text": [
      "[[1. 1. 1. 1. 1. 1.]]\n"
     ]
    }
   ],
   "source": [
    "Y0=[1,1,1,1,1,1] #arreglo con las condiciones iniciales \n",
    "t=np.arange(0,1,1) #tiempo que dura la vaina\n",
    "\n",
    "M=1\n",
    "g=10\n",
    "I=1\n",
    "x0=1\n",
    "y0=1\n",
    "z0=1\n",
    "\n",
    "def f(Y,t):\n",
    "    p,q,r,w1,w2,w3=Y # p= gamma, q=gamma', r=gamma''\n",
    "    \n",
    "    dp= w1*q-w2*r\n",
    "    dq=w1*r-w3*p\n",
    "    dr=w2*p-w1*q\n",
    "    \n",
    "    dw1=-w2*w3+M*g*(y0*r-z0*q)*(1/I)\n",
    "    dw2=w1*w3+M*g*(z0*q-x0*r)*(1/I)\n",
    "    dw3=M*g*(x0*q-y0*p)*(1/(2*I))\n",
    "    \n",
    "    return ([dp,dq,dr,dw1,dw2,dw3])\n",
    "sol=odeint(f,Y0,t)\n",
    "\n",
    "print (sol)"
   ]
  }
 ],
 "metadata": {
  "kernelspec": {
   "display_name": "Python 3",
   "language": "python",
   "name": "python3"
  },
  "language_info": {
   "codemirror_mode": {
    "name": "ipython",
    "version": 3
   },
   "file_extension": ".py",
   "mimetype": "text/x-python",
   "name": "python",
   "nbconvert_exporter": "python",
   "pygments_lexer": "ipython3",
   "version": "3.7.4"
  }
 },
 "nbformat": 4,
 "nbformat_minor": 2
}
