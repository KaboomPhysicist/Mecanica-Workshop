{
 "cells": [
  {
   "cell_type": "code",
   "execution_count": 3,
   "metadata": {},
   "outputs": [],
   "source": [
    "import numpy as np\n",
    "import matplotlib.pyplot as plt\n",
    "from scipy.integrate import odeint"
   ]
  },
  {
   "cell_type": "code",
   "execution_count": 10,
   "metadata": {},
   "outputs": [
    {
     "name": "stdout",
     "output_type": "stream",
     "text": [
      "[[0.00000000e+00 1.00000000e+00 1.00000000e+00 1.00000000e+00]\n",
      " [1.00060011e-03 9.99998499e-01 1.00100010e+00 9.99999998e-01]\n",
      " [2.00220042e-03 9.99993994e-01 1.00200020e+00 9.99999992e-01]\n",
      " ...\n",
      " [6.13461346e+00 6.13561356e+00 6.13661366e+00 6.13761376e+00]\n",
      " [6.13861386e+00 6.13961396e+00 6.14061406e+00 6.14161416e+00]\n",
      " [6.14261426e+00 6.14361436e+00 6.14461446e+00 6.14561456e+00]]\n"
     ]
    }
   ],
   "source": [
    "Y0=[0,1,1,1] #arreglo con las condiciones iniciales \n",
    "t=np.linspace(0,10,10000) #tiempo que dura la vaina\n",
    "\n",
    "l=1 #Parámetro lambda \n",
    "\n",
    "def f(Y,t):\n",
    "    x,y,px,py=Y \n",
    "    \n",
    "    dx= px\n",
    "    dpx=-x-2*l*x*y\n",
    "    dy=py\n",
    "    dpy=-y-l*(x**2-y**2)\n",
    "    \n",
    "    \n",
    "    return ([dx,dpx,dy,dpy])\n",
    "\n",
    "sol=odeint(f,Y0,t)\n",
    "\n",
    "print (sol)\n"
   ]
  }
 ],
 "metadata": {
  "kernelspec": {
   "display_name": "Python 3",
   "language": "python",
   "name": "python3"
  },
  "language_info": {
   "codemirror_mode": {
    "name": "ipython",
    "version": 3
   },
   "file_extension": ".py",
   "mimetype": "text/x-python",
   "name": "python",
   "nbconvert_exporter": "python",
   "pygments_lexer": "ipython3",
   "version": "3.7.4"
  }
 },
 "nbformat": 4,
 "nbformat_minor": 2
}
