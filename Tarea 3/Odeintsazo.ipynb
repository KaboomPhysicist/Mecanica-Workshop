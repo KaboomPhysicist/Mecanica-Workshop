{
 "cells": [
  {
   "cell_type": "code",
   "execution_count": 3,
   "metadata": {},
   "outputs": [],
   "source": [
    "import numpy as np\n",
    "import matplotlib.pyplot as plt\n",
    "from scipy.integrate import odeint"
   ]
  },
  {
   "cell_type": "code",
   "execution_count": null,
   "metadata": {},
   "outputs": [],
   "source": [
    "Y0=[1,1,1,1,] #arreglo con las condiciones iniciales \n",
    "t=np.linspace(0,10,10000) #tiempo que dura la vaina\n",
    "\n",
    "l=1 #Parámetro lambda \n",
    "\n",
    "def f(Y,t):\n",
    "    x,y,px,py=Y \n",
    "    \n",
    "    dx= px\n",
    "    dpx=-x-2*l*x*y\n",
    "    dy=py\n",
    "    dpy=-y-l*(x**2-y**2)\n",
    "    \n",
    "    \n",
    "    return ([dp,d,dy,dpy])\n",
    "sol=odeint(f,Y0,t)\n",
    "\n",
    "\n"
   ]
  }
 ],
 "metadata": {
  "kernelspec": {
   "display_name": "Python 3",
   "language": "python",
   "name": "python3"
  },
  "language_info": {
   "codemirror_mode": {
    "name": "ipython",
    "version": 3
   },
   "file_extension": ".py",
   "mimetype": "text/x-python",
   "name": "python",
   "nbconvert_exporter": "python",
   "pygments_lexer": "ipython3",
   "version": "3.7.4"
  }
 },
 "nbformat": 4,
 "nbformat_minor": 2
}
