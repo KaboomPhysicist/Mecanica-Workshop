{
 "cells": [
  {
   "cell_type": "markdown",
   "metadata": {},
   "source": [
    "# Sistema de Henon-Heiles"
   ]
  },
  {
   "cell_type": "markdown",
   "metadata": {},
   "source": [
    "Considere un sistema bidimensional no lineal (Henon-Heiles o similar). Resuelva las ecuaciones de movimiento y compruebe la sensibilidad a las condiciones iniciales."
   ]
  },
  {
   "cell_type": "markdown",
   "metadata": {},
   "source": [
    "Analicemos el sistema bidimensional regido por el potencial de Henon-Heiles:\n",
    "\n",
    "\\begin{equation}\n",
    "V(x,y)= \\frac{1}{2}\\left(x^2+y^2\\right)+\\lambda\\left(x^2y-\\frac{y^3}{3}\\right)\n",
    "\\end{equation}\n",
    "\n",
    "El Hamiltoniano asociado al sistema es:\n",
    "\n",
    "\\begin{equation}\n",
    "H=\\frac{1}{2}\\left(p_x^2+p_y^2\\right)+\\frac{1}{2}\\left(x^2+y^2\\right)+\\lambda\\left(x^2y-\\frac{y^3}{3}\\right)\n",
    "\\end{equation}\n",
    "\n",
    "Las ecuaciones de Hamilton son entonces:\n",
    "\n",
    "\\begin{equation}\n",
    "\\dot x = p_x \\\\\n",
    "\\dot y = p_y \\\\\n",
    "\\dot p_x = -x-2\\lambda xy \\\\\n",
    "\\dot p_y = -y - \\lambda(x^2-y^2)\n",
    "\\end{equation}"
   ]
  },
  {
   "cell_type": "code",
   "execution_count": 5,
   "metadata": {},
   "outputs": [],
   "source": [
    "import numpy as np\n",
    "import matplotlib.pyplot as plt\n",
    "from scipy.integrate import odeint"
   ]
  },
  {
   "cell_type": "code",
   "execution_count": 35,
   "metadata": {},
   "outputs": [],
   "source": [
    "def solve_system(x0,y0,px0,py0,t0,tf): \n",
    "    Y0=[x0,y0,px0,py0] #arreglo con las condiciones iniciales \n",
    "    t=np.linspace(t0,tf,1000000) #tiempo que dura la vaina\n",
    "\n",
    "    l=1 #Parámetro lambda \n",
    "\n",
    "    def f(Y,t):\n",
    "        x,y,px,py=Y \n",
    "\n",
    "        dx= px\n",
    "        dpx=-x-2*l*x*y\n",
    "        dy=py\n",
    "        dpy=-y-l*(x**2-y**2)\n",
    "\n",
    "        return ([dx,dy,dpx,dpy])\n",
    "\n",
    "    sol=odeint(f,Y0,t)\n",
    "    \n",
    "    X=sol[:,0]\n",
    "    Y=sol[:,1]\n",
    "    PX=sol[:,2]\n",
    "    PY=sol[:,3]\n",
    "    \n",
    "    return X,Y,PX,PY,t"
   ]
  },
  {
   "cell_type": "code",
   "execution_count": 95,
   "metadata": {},
   "outputs": [],
   "source": [
    "def graphs(x,y,px,py,t):\n",
    "    plt.figure(figsize=(14,9))\n",
    "    plt.suptitle(\"Gráficas de sistema de Henon-Heiles\")\n",
    "    \n",
    "    plt.subplots_adjust(hspace=0.3)\n",
    "    \n",
    "    plt.subplot(221)\n",
    "    plt.title(\"Posiciones\")\n",
    "    plt.xlabel(\"Eje x\")\n",
    "    plt.ylabel(\"Eje y\")\n",
    "    plt.grid(True)\n",
    "    plt.plot(x,y,'g-')\n",
    "    #plt.plot(-.2,.2,'ro',markersize=30)             #Para arbolito de navidad\n",
    "    #plt.plot(0,0.5,'*',color='yellow',markersize=60)\n",
    "\n",
    "    plt.subplot(222)\n",
    "    plt.title(\"Momentos\")\n",
    "    plt.xlabel(\"Momento en x\")\n",
    "    plt.ylabel(\"Momento en y\")\n",
    "    plt.grid(True)\n",
    "    plt.plot(px,py,'-')\n",
    "    \n",
    "    plt.subplot(223)\n",
    "    plt.title(\"Espacio de fases\")\n",
    "    plt.xlabel(\"Posición en x\")\n",
    "    plt.ylabel(\"Momento en x\")\n",
    "    plt.grid(True)\n",
    "    plt.plot(x,px,'-')\n",
    "    \n",
    "    plt.subplot(224)\n",
    "    plt.title(\"Espacio de fases\")\n",
    "    plt.xlabel(\"Posición en y\")\n",
    "    plt.ylabel(\"Momento en y\")\n",
    "    plt.grid(True)\n",
    "    plt.plot(y,py,'g-')"
   ]
  },
  {
   "cell_type": "code",
   "execution_count": 97,
   "metadata": {
    "scrolled": false
   },
   "outputs": [],
   "source": [
    "def main(x0,y0,px0,py0,t0,tf):\n",
    "    sol=solve_system(x0,y0,px0,py0,t0,tf)\n",
    "    graphs(*sol)"
   ]
  },
  {
   "cell_type": "code",
   "execution_count": null,
   "metadata": {},
   "outputs": [],
   "source": []
  }
 ],
 "metadata": {
  "kernelspec": {
   "display_name": "Python 3",
   "language": "python",
   "name": "python3"
  },
  "language_info": {
   "codemirror_mode": {
    "name": "ipython",
    "version": 3
   },
   "file_extension": ".py",
   "mimetype": "text/x-python",
   "name": "python",
   "nbconvert_exporter": "python",
   "pygments_lexer": "ipython3",
   "version": "3.7.4"
  }
 },
 "nbformat": 4,
 "nbformat_minor": 5
}
