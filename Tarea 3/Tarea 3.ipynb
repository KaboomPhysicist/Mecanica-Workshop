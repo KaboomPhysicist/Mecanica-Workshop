{
 "cells": [
  {
   "cell_type": "markdown",
   "id": "139e4be7",
   "metadata": {},
   "source": [
    "# Sistema de Henon-Heiles"
   ]
  },
  {
   "cell_type": "markdown",
   "id": "7fc62158",
   "metadata": {},
   "source": [
    "Considere un sistema bidimensional no lineal (Henon-Heiles o similar). Resuelva las ecuaciones de movimiento y compruebe la sensibilidad a las condiciones iniciales."
   ]
  },
  {
   "cell_type": "markdown",
   "id": "e7b1ddd1",
   "metadata": {},
   "source": [
    "Analicemos el sistema bidimensional regido por el potencial de Henon-Heiles:\n",
    "\n",
    "\\begin{equation}\n",
    "V(x,y)= \\frac{1}{2}\\left(x^2+y^2\\right)+\\lambda\\left(x^2y-\\frac{y^3}{3}\\right)\n",
    "\\end{equation}\n",
    "\n",
    "El Hamiltoniano asociado al sistema es:\n",
    "\n",
    "\\begin{equation}\n",
    "H=\\frac{1}{2}\\left(p_x^2+p_y^2\\right)+\\frac{1}{2}\\left(x^2+y^2\\right)+\\lambda\\left(x^2y-\\frac{y^3}{3}\\right)\n",
    "\\end{equation}\n",
    "\n",
    "Las ecuaciones de Hamilton son entonces:\n",
    "\n",
    "\\begin{equation}\n",
    "\\dot x = p_x \\\\\n",
    "\\dot y = p_y \\\\\n",
    "\\dot p_x = -x-2\\lambda xy \\\\\n",
    "\\dot p_y = -y - \\lambda(x^2-y^2)\n",
    "\\end{equation}"
   ]
  },
  {
   "cell_type": "code",
   "execution_count": 1,
   "id": "3e99453c",
   "metadata": {},
   "outputs": [],
   "source": [
    "import numpy as np\n",
    "import matplotlib.pyplot as plt\n",
    "from scipy.integrate import odeint"
   ]
  },
  {
   "cell_type": "code",
   "execution_count": 27,
   "id": "7911ed49",
   "metadata": {},
   "outputs": [],
   "source": [
    "def solve_system(x0,y0,px0,py0,t0,tf): \n",
    "    Y0=[x0,y0,px0,py0] #arreglo con las condiciones iniciales \n",
    "    t=np.linspace(t0,tf,1e6) #tiempo que dura la vaina\n",
    "\n",
    "    l=1 #Parámetro lambda \n",
    "\n",
    "    def f(Y,t):\n",
    "        x,y,px,py=Y \n",
    "\n",
    "        dx= px\n",
    "        dpx=-x-2*l*x*y\n",
    "        dy=py\n",
    "        dpy=-y-l*(x**2-y**2)\n",
    "\n",
    "\n",
    "        return ([dx,dy,dpx,dpy])\n",
    "\n",
    "    sol=odeint(f,Y0,t)\n",
    "\n",
    "    return sol"
   ]
  },
  {
   "cell_type": "code",
   "execution_count": 26,
   "id": "c23c385d",
   "metadata": {},
   "outputs": [],
   "source": [
    "def graphs(x,y,px,py):\n",
    "    plt.figure(1,figsize=(14,9))\n",
    "    plt.xlabel(\"Eje x\")\n",
    "    plt.ylabel(\"Eje y\")\n",
    "    plt.grid(True)\n",
    "    plt.plot(x,y,'.')\n",
    "\n",
    "    plt.figure(2,figsize=(14,9))\n",
    "    plt.xlabel(\"Velocidad x\")\n",
    "    plt.ylabel(\"Velocidad y\")\n",
    "\n",
    "    plt.grid(True)\n",
    "    plt.plot(px,py,'.')"
   ]
  },
  {
   "cell_type": "code",
   "execution_count": null,
   "id": "06b196d3",
   "metadata": {},
   "outputs": [],
   "source": []
  },
  {
   "cell_type": "code",
   "execution_count": null,
   "id": "998a1571",
   "metadata": {},
   "outputs": [],
   "source": []
  }
 ],
 "metadata": {
  "kernelspec": {
   "display_name": "Python 3 (ipykernel)",
   "language": "python",
   "name": "python3"
  },
  "language_info": {
   "codemirror_mode": {
    "name": "ipython",
    "version": 3
   },
   "file_extension": ".py",
   "mimetype": "text/x-python",
   "name": "python",
   "nbconvert_exporter": "python",
   "pygments_lexer": "ipython3",
   "version": "3.9.6"
  }
 },
 "nbformat": 4,
 "nbformat_minor": 5
}
