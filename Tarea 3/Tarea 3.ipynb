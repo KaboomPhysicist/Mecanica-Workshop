{
 "cells": [
  {
   "cell_type": "markdown",
   "id": "139e4be7",
   "metadata": {},
   "source": [
    "# Sistema de Henon-Heiles"
   ]
  },
  {
   "cell_type": "markdown",
   "id": "7fc62158",
   "metadata": {},
   "source": [
    "Considere un sistema bidimensional no lineal (Henon-Heiles o similar). Resuelva las ecuaciones de movimiento y compruebe la sensibilidad a las condiciones iniciales."
   ]
  },
  {
   "cell_type": "markdown",
   "id": "e7b1ddd1",
   "metadata": {},
   "source": [
    "Analicemos el sistema bidimensional regido por el potencial de Henon-Heiles:\n",
    "\n",
    "\\begin{equation}\n",
    "V(x,y)= \\frac{1}{2}\\left(x^2+y^2\\right)+\\lambda\\left(x^2y-\\frac{y^3}{3}\\right)\n",
    "\\end{equation}\n",
    "\n",
    "El Hamiltoniano asociado al sistema es:\n",
    "\n",
    "\\begin{equation}\n",
    "H=\\frac{1}{2}\\left(p_x^2+p_y^2\\right)+\\frac{1}{2}\\left(x^2+y^2\\right)+\\lambda\\left(x^2y-\\frac{y^3}{3}\\right)\n",
    "\\end{equation}\n",
    "\n",
    "Las ecuaciones de Hamilton son entonces:\n",
    "\n",
    "\\begin{equation}\n",
    "\\dot x = p_x \\\\\n",
    "\\dot y = p_y \\\\\n",
    "\\dot p_x = -x-2\\lambda xy \\\\\n",
    "\\dot p_y = -y - \\lambda(x^2-y^2)\n",
    "\\end{equation}"
   ]
  },
  {
   "cell_type": "code",
   "execution_count": null,
   "id": "3e99453c",
   "metadata": {},
   "outputs": [],
   "source": []
  }
 ],
 "metadata": {
  "kernelspec": {
   "display_name": "Python 3",
   "language": "python",
   "name": "python3"
  },
  "language_info": {
   "codemirror_mode": {
    "name": "ipython",
    "version": 3
   },
   "file_extension": ".py",
   "mimetype": "text/x-python",
   "name": "python",
   "nbconvert_exporter": "python",
   "pygments_lexer": "ipython3",
   "version": "3.9.6"
  }
 },
 "nbformat": 4,
 "nbformat_minor": 5
}
